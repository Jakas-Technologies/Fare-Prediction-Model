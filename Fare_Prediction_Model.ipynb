{
  "cells": [
    {
      "cell_type": "code",
      "execution_count": null,
      "metadata": {
        "id": "yQXH7mqXlXp1"
      },
      "outputs": [],
      "source": [
        "from google.colab import files\n",
        "uploaded = files.upload()"
      ]
    },
    {
      "cell_type": "code",
      "execution_count": 11,
      "metadata": {
        "id": "fVqbDrnbllSC"
      },
      "outputs": [],
      "source": [
        "import numpy as np\n",
        "import pandas as pd\n",
        "import matplotlib.pyplot as plt\n",
        "import tensorflow as tf\n",
        "from sklearn.model_selection import train_test_split\n",
        "from sklearn.metrics import mean_squared_error\n",
        "import json\n",
        "import time"
      ]
    },
    {
      "cell_type": "markdown",
      "metadata": {
        "id": "1oj9BiXTz49W"
      },
      "source": [
        "**Mengambil data dari file csv**"
      ]
    },
    {
      "cell_type": "code",
      "execution_count": null,
      "metadata": {
        "id": "uvBBm5eTlqtt"
      },
      "outputs": [],
      "source": [
        "file_path = 'dataset_fare.csv'\n",
        "data = pd.read_csv(file_path, sep = \",\")\n",
        "print(data.head())\n",
        "\n",
        "data['Distance_BBM'] = data['Distance'] * data['BBM']\n",
        "\n",
        "color_mapping = {'General': 'blue', 'Student': 'green', 'Elderly': 'red'}\n",
        "for type_name, color in color_mapping.items():\n",
        "    type_data = data[data['Type'] == type_name]\n",
        "    plt.scatter(type_data['Distance_BBM'], type_data['Fare'], c=color, label=type_name)\n",
        "\n",
        "plt.xlabel('Distance_BBM')\n",
        "plt.ylabel('Fare')\n",
        "plt.title('Distribution of Fare for General, Student, and Elderly Types')\n",
        "plt.legend()\n",
        "plt.show()"
      ]
    },
    {
      "cell_type": "markdown",
      "metadata": {
        "id": "ow5g7_cQNw7m"
      },
      "source": [
        "# **Pengembangan Model**"
      ]
    },
    {
      "cell_type": "markdown",
      "metadata": {
        "id": "BW2F4Ykg0Nu2"
      },
      "source": [
        "**Data Preprocessing**"
      ]
    },
    {
      "cell_type": "code",
      "execution_count": null,
      "metadata": {
        "id": "6qDoTS1UluOL"
      },
      "outputs": [],
      "source": [
        "X = data[[\"Distance\", \"Type\", \"BBM\", \"Distance_BBM\"]]\n",
        "y = data[\"Fare\"]\n",
        "X = pd.get_dummies(X)\n",
        "\n",
        "print(X[:5])\n",
        "\n",
        "X_train, X_test, y_train, y_test = train_test_split(X, y, test_size=0.2, random_state=42)\n",
        "\n",
        "mean_X, std_X = np.mean(X_train, axis=0), np.std(X_train, axis=0)\n",
        "mean_y, std_y = np.mean(y_train, axis=0), np.std(y_train, axis=0)\n",
        "\n",
        "X_train = (X_train - mean_X) / std_X\n",
        "X_test = (X_test - mean_X) / std_X\n",
        "\n",
        "y_train = (y_train - mean_y) / std_y\n",
        "y_test = (y_test - mean_y) / std_y"
      ]
    },
    {
      "cell_type": "markdown",
      "metadata": {
        "id": "jzABvo0-lOdf"
      },
      "source": []
    },
    {
      "cell_type": "markdown",
      "metadata": {
        "id": "Uj8dYBjh0jZJ"
      },
      "source": [
        "**Arsitektur Model**"
      ]
    },
    {
      "cell_type": "code",
      "execution_count": null,
      "metadata": {
        "id": "5aVDQx6ll6eo"
      },
      "outputs": [],
      "source": [
        "model = tf.keras.Sequential([\n",
        "    tf.keras.layers.Input(shape=(X_train.shape[1],)),\n",
        "    tf.keras.layers.Dense(units=16, activation='relu'),\n",
        "    tf.keras.layers.Dense(units=32, activation='relu'),\n",
        "    tf.keras.layers.Dense(units=16, activation='relu'),\n",
        "    tf.keras.layers.Dense(units=1, activation='linear')\n",
        "])\n",
        "\n",
        "optimizer = tf.keras.optimizers.Adam(learning_rate=0.01)\n",
        "model.compile(optimizer=optimizer, loss='mean_squared_error', metrics=['mse'])\n",
        "\n",
        "history = model.fit(X_train, y_train, epochs=100, verbose=1, validation_data=(X_test, y_test))\n"
      ]
    },
    {
      "cell_type": "markdown",
      "metadata": {
        "id": "Rx9ocIvU1mYi"
      },
      "source": [
        "**Menguji Model**"
      ]
    },
    {
      "cell_type": "code",
      "execution_count": null,
      "metadata": {
        "id": "RQwXer_mmBAe"
      },
      "outputs": [],
      "source": [
        "y_pred = model.predict(X_test)\n",
        "\n",
        "mse = mean_squared_error(y_test, y_pred)\n",
        "print(f'Mean Squared Error on Test Data: {mse}')"
      ]
    },
    {
      "cell_type": "code",
      "source": [
        "plt.figure(figsize=(12, 6))\n",
        "\n",
        "plt.subplot(1, 2, 1)\n",
        "plt.plot(history.history['loss'], label='Training Loss')\n",
        "plt.plot(history.history['val_loss'], label='Validation Loss')\n",
        "plt.title('Training and Validation Loss')\n",
        "plt.xlabel('Epoch')\n",
        "plt.ylabel('Loss')\n",
        "plt.legend()"
      ],
      "metadata": {
        "id": "1RiS5nDxm0RV"
      },
      "execution_count": null,
      "outputs": []
    },
    {
      "cell_type": "code",
      "source": [
        "plt.subplot(1, 2, 2)\n",
        "plt.plot(history.history['mse'], label='Training MSE')\n",
        "plt.plot(history.history['val_mse'], label='Validation MSE')\n",
        "plt.title('Training and Validation MSE')\n",
        "plt.xlabel('Epoch')\n",
        "plt.ylabel('MSE')\n",
        "plt.legend()"
      ],
      "metadata": {
        "id": "tIEaFppunGJx"
      },
      "execution_count": null,
      "outputs": []
    },
    {
      "cell_type": "markdown",
      "metadata": {
        "id": "mE9X3cif1wix"
      },
      "source": [
        "**Visualisasi Hasil Prediksi**"
      ]
    },
    {
      "cell_type": "code",
      "execution_count": null,
      "metadata": {
        "id": "57He_eLUmGfp"
      },
      "outputs": [],
      "source": [
        "X_test_denormalized = X_test * std_X + mean_X\n",
        "y_test_denormalized = y_test * std_y + mean_y\n",
        "y_pred_denormalized = y_pred * std_y + mean_y\n",
        "\n",
        "import plotly.graph_objects as go\n",
        "\n",
        "# Visualisasi hubungan antara variabel Distance, Type, dan Fare menggunakan Plotly\n",
        "fig = go.Figure(data=[\n",
        "    go.Scatter3d(\n",
        "        x=X_test_denormalized['Distance_BBM'],\n",
        "        y=X_test_denormalized['Type_Student'],\n",
        "        z=y_test_denormalized,\n",
        "        mode='markers',\n",
        "        name='True Fare',\n",
        "        marker=dict(size=4)\n",
        "    ),\n",
        "    go.Scatter3d(\n",
        "        x=X_test_denormalized['Distance_BBM'],\n",
        "        y=X_test_denormalized['Type_Student'],\n",
        "        z=y_pred_denormalized.flatten(),\n",
        "        mode='markers',\n",
        "        name='Predicted Fare',\n",
        "        marker=dict(size=4)\n",
        "    )\n",
        "])\n",
        "\n",
        "fig.update_layout(\n",
        "    scene=dict(\n",
        "        xaxis=dict(title='Distance_BBM'),\n",
        "        yaxis=dict(title='Type'),\n",
        "        zaxis=dict(title='Fare'),\n",
        "    ),\n",
        "    title='Relationship between Distance_BBM, Type, and Fare',\n",
        "    margin=dict(l=0, r=0, b=0, t=40)\n",
        ")\n",
        "\n",
        "fig.show()"
      ]
    },
    {
      "cell_type": "markdown",
      "metadata": {
        "id": "cRQ8Tu3QLl0Z"
      },
      "source": [
        "**Tes Model dengan data baru**"
      ]
    },
    {
      "cell_type": "code",
      "execution_count": null,
      "metadata": {
        "id": "X5-7nsK1mPk2"
      },
      "outputs": [],
      "source": [
        "distance = 1000\n",
        "bbm = 10000\n",
        "distanceBBM = distance * bbm\n",
        "\n",
        "test_values = pd.DataFrame({\n",
        "                              'Distance': [distance, distance, distance],\n",
        "                              'Type_General': [1, 0, 0],\n",
        "                              'Type_Student': [0, 1, 0],\n",
        "                              'Type_Elderly': [0, 0, 1],\n",
        "                              'BBM': [bbm, bbm, bbm],\n",
        "                              'Distance_BBM': [distanceBBM, distanceBBM, distanceBBM]\n",
        "                          })\n",
        "\n",
        "test_values_normalized = (test_values - mean_X) / std_X\n",
        "\n",
        "predicted_fares_normalized = model.predict(test_values_normalized)\n",
        "\n",
        "predicted_fares_denormalized = predicted_fares_normalized * std_y + mean_y\n",
        "\n",
        "for i in range(len(test_values)):\n",
        "    predicted_fare_denormalized = predicted_fares_denormalized[i][0]\n",
        "    rounded_predicted_fare = np.round(predicted_fare_denormalized / 1000) * 1000\n",
        "    fare_type = test_values.iloc[i, 1:-2].idxmax()\n",
        "\n",
        "    print(f'Jarak: {test_values[\"Distance\"][i]}, Type: {fare_type}, Predicted Fare (Rounded): {rounded_predicted_fare}')\n"
      ]
    },
    {
      "cell_type": "markdown",
      "metadata": {
        "id": "Wl6mwq_0yq4v"
      },
      "source": [
        "# **Convert Model**"
      ]
    },
    {
      "cell_type": "markdown",
      "metadata": {
        "id": "aypzPhbJy7Ch"
      },
      "source": [
        "Install tensorflowjs"
      ]
    },
    {
      "cell_type": "code",
      "source": [
        "pip install tensorflowjs"
      ],
      "metadata": {
        "id": "Q1GPnY4X2x2H"
      },
      "execution_count": null,
      "outputs": []
    },
    {
      "cell_type": "markdown",
      "metadata": {
        "id": "IizBxkyezBJy"
      },
      "source": [
        "Save model ke format .h5"
      ]
    },
    {
      "cell_type": "code",
      "execution_count": null,
      "metadata": {
        "id": "zuW_Ampankwl"
      },
      "outputs": [],
      "source": [
        "saved_model_path = \"./{}.h5\".format(int(time.time()))\n",
        "\n",
        "model.save(saved_model_path)"
      ]
    },
    {
      "cell_type": "markdown",
      "metadata": {
        "id": "yTkukEa1zH_L"
      },
      "source": [
        "Konversi model menggunakan tensorflowjs"
      ]
    },
    {
      "cell_type": "code",
      "execution_count": null,
      "metadata": {
        "id": "8iT5-CXCnpnJ"
      },
      "outputs": [],
      "source": [
        "!tensorflowjs_converter --input_format=keras {saved_model_path} ./\n"
      ]
    },
    {
      "cell_type": "markdown",
      "metadata": {
        "id": "FMvxTTCEyNl5"
      },
      "source": [
        "# **Menyimpan Paramater Normalization ke dalam file JSON**"
      ]
    },
    {
      "cell_type": "code",
      "execution_count": null,
      "metadata": {
        "id": "72tvviD6oxOz"
      },
      "outputs": [],
      "source": [
        "print(f'mean_X: {mean_X}')\n",
        "print(f'std_X:  {std_X}')\n",
        "print(f'mean_y: {mean_y}')\n",
        "print(f'std_y:  {std_y}')\n",
        "\n",
        "result_dict = {\n",
        "    \"mean_X\": mean_X.to_dict(),\n",
        "    \"std_X\": std_X.to_dict(),\n",
        "    \"mean_y\": float(mean_y),\n",
        "    \"std_y\": float(std_y)\n",
        "}\n",
        "\n",
        "# Save to JSON file\n",
        "with open('norm_params.json', 'w') as json_file:\n",
        "    json.dump(result_dict, json_file, indent=4)\n"
      ]
    }
  ],
  "metadata": {
    "colab": {
      "provenance": []
    },
    "kernelspec": {
      "display_name": "Python 3",
      "name": "python3"
    },
    "language_info": {
      "name": "python"
    }
  },
  "nbformat": 4,
  "nbformat_minor": 0
}