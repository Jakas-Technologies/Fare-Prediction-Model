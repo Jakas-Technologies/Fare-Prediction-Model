{
  "nbformat": 4,
  "nbformat_minor": 0,
  "metadata": {
    "colab": {
      "provenance": []
    },
    "kernelspec": {
      "name": "python3",
      "display_name": "Python 3"
    },
    "language_info": {
      "name": "python"
    }
  },
  "cells": [
    {
      "cell_type": "code",
      "execution_count": 1,
      "metadata": {
        "colab": {
          "base_uri": "https://localhost:8080/",
          "height": 110
        },
        "id": "yQXH7mqXlXp1",
        "outputId": "3f8eed07-14c5-487a-e277-4d40702998c4"
      },
      "outputs": [
        {
          "output_type": "display_data",
          "data": {
            "text/plain": [
              "<IPython.core.display.HTML object>"
            ],
            "text/html": [
              "\n",
              "     <input type=\"file\" id=\"files-689c46cf-b17d-4876-bced-71d042c598d2\" name=\"files[]\" multiple disabled\n",
              "        style=\"border:none\" />\n",
              "     <output id=\"result-689c46cf-b17d-4876-bced-71d042c598d2\">\n",
              "      Upload widget is only available when the cell has been executed in the\n",
              "      current browser session. Please rerun this cell to enable.\n",
              "      </output>\n",
              "      <script>// Copyright 2017 Google LLC\n",
              "//\n",
              "// Licensed under the Apache License, Version 2.0 (the \"License\");\n",
              "// you may not use this file except in compliance with the License.\n",
              "// You may obtain a copy of the License at\n",
              "//\n",
              "//      http://www.apache.org/licenses/LICENSE-2.0\n",
              "//\n",
              "// Unless required by applicable law or agreed to in writing, software\n",
              "// distributed under the License is distributed on an \"AS IS\" BASIS,\n",
              "// WITHOUT WARRANTIES OR CONDITIONS OF ANY KIND, either express or implied.\n",
              "// See the License for the specific language governing permissions and\n",
              "// limitations under the License.\n",
              "\n",
              "/**\n",
              " * @fileoverview Helpers for google.colab Python module.\n",
              " */\n",
              "(function(scope) {\n",
              "function span(text, styleAttributes = {}) {\n",
              "  const element = document.createElement('span');\n",
              "  element.textContent = text;\n",
              "  for (const key of Object.keys(styleAttributes)) {\n",
              "    element.style[key] = styleAttributes[key];\n",
              "  }\n",
              "  return element;\n",
              "}\n",
              "\n",
              "// Max number of bytes which will be uploaded at a time.\n",
              "const MAX_PAYLOAD_SIZE = 100 * 1024;\n",
              "\n",
              "function _uploadFiles(inputId, outputId) {\n",
              "  const steps = uploadFilesStep(inputId, outputId);\n",
              "  const outputElement = document.getElementById(outputId);\n",
              "  // Cache steps on the outputElement to make it available for the next call\n",
              "  // to uploadFilesContinue from Python.\n",
              "  outputElement.steps = steps;\n",
              "\n",
              "  return _uploadFilesContinue(outputId);\n",
              "}\n",
              "\n",
              "// This is roughly an async generator (not supported in the browser yet),\n",
              "// where there are multiple asynchronous steps and the Python side is going\n",
              "// to poll for completion of each step.\n",
              "// This uses a Promise to block the python side on completion of each step,\n",
              "// then passes the result of the previous step as the input to the next step.\n",
              "function _uploadFilesContinue(outputId) {\n",
              "  const outputElement = document.getElementById(outputId);\n",
              "  const steps = outputElement.steps;\n",
              "\n",
              "  const next = steps.next(outputElement.lastPromiseValue);\n",
              "  return Promise.resolve(next.value.promise).then((value) => {\n",
              "    // Cache the last promise value to make it available to the next\n",
              "    // step of the generator.\n",
              "    outputElement.lastPromiseValue = value;\n",
              "    return next.value.response;\n",
              "  });\n",
              "}\n",
              "\n",
              "/**\n",
              " * Generator function which is called between each async step of the upload\n",
              " * process.\n",
              " * @param {string} inputId Element ID of the input file picker element.\n",
              " * @param {string} outputId Element ID of the output display.\n",
              " * @return {!Iterable<!Object>} Iterable of next steps.\n",
              " */\n",
              "function* uploadFilesStep(inputId, outputId) {\n",
              "  const inputElement = document.getElementById(inputId);\n",
              "  inputElement.disabled = false;\n",
              "\n",
              "  const outputElement = document.getElementById(outputId);\n",
              "  outputElement.innerHTML = '';\n",
              "\n",
              "  const pickedPromise = new Promise((resolve) => {\n",
              "    inputElement.addEventListener('change', (e) => {\n",
              "      resolve(e.target.files);\n",
              "    });\n",
              "  });\n",
              "\n",
              "  const cancel = document.createElement('button');\n",
              "  inputElement.parentElement.appendChild(cancel);\n",
              "  cancel.textContent = 'Cancel upload';\n",
              "  const cancelPromise = new Promise((resolve) => {\n",
              "    cancel.onclick = () => {\n",
              "      resolve(null);\n",
              "    };\n",
              "  });\n",
              "\n",
              "  // Wait for the user to pick the files.\n",
              "  const files = yield {\n",
              "    promise: Promise.race([pickedPromise, cancelPromise]),\n",
              "    response: {\n",
              "      action: 'starting',\n",
              "    }\n",
              "  };\n",
              "\n",
              "  cancel.remove();\n",
              "\n",
              "  // Disable the input element since further picks are not allowed.\n",
              "  inputElement.disabled = true;\n",
              "\n",
              "  if (!files) {\n",
              "    return {\n",
              "      response: {\n",
              "        action: 'complete',\n",
              "      }\n",
              "    };\n",
              "  }\n",
              "\n",
              "  for (const file of files) {\n",
              "    const li = document.createElement('li');\n",
              "    li.append(span(file.name, {fontWeight: 'bold'}));\n",
              "    li.append(span(\n",
              "        `(${file.type || 'n/a'}) - ${file.size} bytes, ` +\n",
              "        `last modified: ${\n",
              "            file.lastModifiedDate ? file.lastModifiedDate.toLocaleDateString() :\n",
              "                                    'n/a'} - `));\n",
              "    const percent = span('0% done');\n",
              "    li.appendChild(percent);\n",
              "\n",
              "    outputElement.appendChild(li);\n",
              "\n",
              "    const fileDataPromise = new Promise((resolve) => {\n",
              "      const reader = new FileReader();\n",
              "      reader.onload = (e) => {\n",
              "        resolve(e.target.result);\n",
              "      };\n",
              "      reader.readAsArrayBuffer(file);\n",
              "    });\n",
              "    // Wait for the data to be ready.\n",
              "    let fileData = yield {\n",
              "      promise: fileDataPromise,\n",
              "      response: {\n",
              "        action: 'continue',\n",
              "      }\n",
              "    };\n",
              "\n",
              "    // Use a chunked sending to avoid message size limits. See b/62115660.\n",
              "    let position = 0;\n",
              "    do {\n",
              "      const length = Math.min(fileData.byteLength - position, MAX_PAYLOAD_SIZE);\n",
              "      const chunk = new Uint8Array(fileData, position, length);\n",
              "      position += length;\n",
              "\n",
              "      const base64 = btoa(String.fromCharCode.apply(null, chunk));\n",
              "      yield {\n",
              "        response: {\n",
              "          action: 'append',\n",
              "          file: file.name,\n",
              "          data: base64,\n",
              "        },\n",
              "      };\n",
              "\n",
              "      let percentDone = fileData.byteLength === 0 ?\n",
              "          100 :\n",
              "          Math.round((position / fileData.byteLength) * 100);\n",
              "      percent.textContent = `${percentDone}% done`;\n",
              "\n",
              "    } while (position < fileData.byteLength);\n",
              "  }\n",
              "\n",
              "  // All done.\n",
              "  yield {\n",
              "    response: {\n",
              "      action: 'complete',\n",
              "    }\n",
              "  };\n",
              "}\n",
              "\n",
              "scope.google = scope.google || {};\n",
              "scope.google.colab = scope.google.colab || {};\n",
              "scope.google.colab._files = {\n",
              "  _uploadFiles,\n",
              "  _uploadFilesContinue,\n",
              "};\n",
              "})(self);\n",
              "</script> "
            ]
          },
          "metadata": {}
        },
        {
          "output_type": "stream",
          "name": "stdout",
          "text": [
            "Saving simulated_fare_with_two_features.csv to simulated_fare_with_two_features.csv\n"
          ]
        }
      ],
      "source": [
        "from google.colab import files\n",
        "uploaded = files.upload()"
      ]
    },
    {
      "cell_type": "code",
      "source": [
        "import numpy as np\n",
        "import pandas as pd\n",
        "import matplotlib.pyplot as plt\n",
        "import tensorflow as tf\n",
        "from sklearn.model_selection import train_test_split\n",
        "from sklearn.metrics import mean_squared_error\n",
        "import json\n",
        "import time"
      ],
      "metadata": {
        "id": "fVqbDrnbllSC"
      },
      "execution_count": 2,
      "outputs": []
    },
    {
      "cell_type": "markdown",
      "source": [
        "**Mengambil data dari file csv**"
      ],
      "metadata": {
        "id": "1oj9BiXTz49W"
      }
    },
    {
      "cell_type": "code",
      "source": [
        "file_path = 'simulated_fare_with_two_features.csv'\n",
        "data = pd.read_csv(file_path, sep = \",\")\n",
        "print(data.head())\n",
        "\n",
        "color_mapping = {'General': 'blue', 'Student': 'green', 'Elderly': 'red'}\n",
        "\n",
        "for type_name, color in color_mapping.items():\n",
        "    type_data = data[data['Type'] == type_name]\n",
        "    plt.scatter(type_data['Distance'], type_data['Fare'], c=color, label=type_name)\n",
        "\n",
        "plt.xlabel('Distance')\n",
        "plt.ylabel('Fare')\n",
        "plt.title('Distribution of Fare for General, Student, and Elderly Types')\n",
        "plt.legend()\n",
        "plt.show()"
      ],
      "metadata": {
        "colab": {
          "base_uri": "https://localhost:8080/",
          "height": 576
        },
        "id": "uvBBm5eTlqtt",
        "outputId": "1d8be2a6-e0c7-4b5b-bdd5-ccf0223708d5"
      },
      "execution_count": 3,
      "outputs": [
        {
          "output_type": "stream",
          "name": "stdout",
          "text": [
            "   Distance     Type  Fare\n",
            "0      2210  Student  2000\n",
            "1      2234  General  3000\n",
            "2      2345  Student  2000\n",
            "3      2345  General  3000\n",
            "4      2345  General  4000\n"
          ]
        },
        {
          "output_type": "display_data",
          "data": {
            "text/plain": [
              "<Figure size 640x480 with 1 Axes>"
            ],
            "image/png": "[encoded data removed]"
          },
          "metadata": {}
        }
      ]
    },
    {
      "cell_type": "markdown",
      "source": [
        "# **Pengembangan Model**"
      ],
      "metadata": {
        "id": "ow5g7_cQNw7m"
      }
    },
    {
      "cell_type": "markdown",
      "source": [
        "**Data Preprocessing**"
      ],
      "metadata": {
        "id": "BW2F4Ykg0Nu2"
      }
    },
    {
      "cell_type": "code",
      "source": [
        "X = data[[\"Distance\", \"Type\"]]\n",
        "y = data[\"Fare\"]\n",
        "X = pd.get_dummies(X)\n",
        "\n",
        "X_train, X_test, y_train, y_test = train_test_split(X, y, test_size=0.2, random_state=42)\n",
        "\n",
        "mean_X, std_X = np.mean(X_train, axis=0), np.std(X_train, axis=0)\n",
        "mean_y, std_y = np.mean(y_train, axis=0), np.std(y_train, axis=0)\n",
        "\n",
        "X_train = (X_train - mean_X) / std_X\n",
        "X_test = (X_test - mean_X) / std_X\n",
        "\n",
        "y_train = (y_train - mean_y) / std_y\n",
        "y_test = (y_test - mean_y) / std_y"
      ],
      "metadata": {
        "id": "6qDoTS1UluOL"
      },
      "execution_count": 4,
      "outputs": []
    },
    {
      "cell_type": "markdown",
      "source": [],
      "metadata": {
        "id": "jzABvo0-lOdf"
      }
    },
    {
      "cell_type": "markdown",
      "source": [
        "**Arsitektur Model**"
      ],
      "metadata": {
        "id": "Uj8dYBjh0jZJ"
      }
    },
    {
      "cell_type": "code",
      "source": [
        "model = tf.keras.Sequential([\n",
        "    tf.keras.layers.Input(shape=(X_train.shape[1],)),\n",
        "    tf.keras.layers.Dense(units=8, activation='relu'),\n",
        "    tf.keras.layers.Dense(units=16, activation='relu'),\n",
        "    tf.keras.layers.Dense(units=1, activation='linear')\n",
        "])\n",
        "\n",
        "optimizer = tf.keras.optimizers.Adam(learning_rate=0.001)\n",
        "model.compile(optimizer='adam', loss='mean_squared_error', metrics=['mse'])\n",
        "\n",
        "model.fit(X_train, y_train, epochs=200, verbose=1)\n"
      ],
      "metadata": {
        "colab": {
          "base_uri": "https://localhost:8080/"
        },
        "id": "5aVDQx6ll6eo",
        "outputId": "99db74f8-fd37-461e-d403-8b4dd76c3560"
      },
      "execution_count": 5,
      "outputs": [
        {
          "output_type": "stream",
          "name": "stdout",
          "text": [
            "Epoch 1/200\n",
            "3/3 [==============================] - 2s 12ms/step - loss: 1.3558 - mse: 1.3558\n",
            "Epoch 2/200\n",
            "3/3 [==============================] - 0s 8ms/step - loss: 1.2896 - mse: 1.2896\n",
            "Epoch 3/200\n",
            "3/3 [==============================] - 0s 8ms/step - loss: 1.2386 - mse: 1.2386\n",
            "Epoch 4/200\n",
            "3/3 [==============================] - 0s 11ms/step - loss: 1.1828 - mse: 1.1828\n",
            "Epoch 5/200\n",
            "3/3 [==============================] - 0s 9ms/step - loss: 1.1308 - mse: 1.1308\n",
            "Epoch 6/200\n",
            "3/3 [==============================] - 0s 10ms/step - loss: 1.0775 - mse: 1.0775\n",
            "Epoch 7/200\n",
            "3/3 [==============================] - 0s 6ms/step - loss: 1.0305 - mse: 1.0305\n",
            "Epoch 8/200\n",
            "3/3 [==============================] - 0s 10ms/step - loss: 0.9893 - mse: 0.9893\n",
            "Epoch 9/200\n",
            "3/3 [==============================] - 0s 8ms/step - loss: 0.9440 - mse: 0.9440\n",
            "Epoch 10/200\n",
            "3/3 [==============================] - 0s 8ms/step - loss: 0.9068 - mse: 0.9068\n",
            "Epoch 11/200\n",
            "3/3 [==============================] - 0s 7ms/step - loss: 0.8674 - mse: 0.8674\n",
            "Epoch 12/200\n",
            "3/3 [==============================] - 0s 10ms/step - loss: 0.8336 - mse: 0.8336\n",
            "Epoch 13/200\n",
            "3/3 [==============================] - 0s 7ms/step - loss: 0.7997 - mse: 0.7997\n",
            "Epoch 14/200\n",
            "3/3 [==============================] - 0s 7ms/step - loss: 0.7699 - mse: 0.7699\n",
            "Epoch 15/200\n",
            "3/3 [==============================] - 0s 7ms/step - loss: 0.7398 - mse: 0.7398\n",
            "Epoch 16/200\n",
            "3/3 [==============================] - 0s 17ms/step - loss: 0.7120 - mse: 0.7120\n",
            "Epoch 17/200\n",
            "3/3 [==============================] - 0s 9ms/step - loss: 0.6846 - mse: 0.6846\n",
            "Epoch 18/200\n",
            "3/3 [==============================] - 0s 8ms/step - loss: 0.6603 - mse: 0.6603\n",
            "Epoch 19/200\n",
            "3/3 [==============================] - 0s 9ms/step - loss: 0.6367 - mse: 0.6367\n",
            "Epoch 20/200\n",
            "3/3 [==============================] - 0s 7ms/step - loss: 0.6147 - mse: 0.6147\n",
            "Epoch 21/200\n",
            "3/3 [==============================] - 0s 7ms/step - loss: 0.5938 - mse: 0.5938\n",
            "Epoch 22/200\n",
            "3/3 [==============================] - 0s 10ms/step - loss: 0.5723 - mse: 0.5723\n",
            "Epoch 23/200\n",
            "3/3 [==============================] - 0s 11ms/step - loss: 0.5554 - mse: 0.5554\n",
            "Epoch 24/200\n",
            "3/3 [==============================] - 0s 10ms/step - loss: 0.5389 - mse: 0.5389\n",
            "Epoch 25/200\n",
            "3/3 [==============================] - 0s 15ms/step - loss: 0.5207 - mse: 0.5207\n",
            "Epoch 26/200\n",
            "3/3 [==============================] - 0s 13ms/step - loss: 0.5063 - mse: 0.5063\n",
            "Epoch 27/200\n",
            "3/3 [==============================] - 0s 6ms/step - loss: 0.4906 - mse: 0.4906\n",
            "Epoch 28/200\n",
            "3/3 [==============================] - 0s 6ms/step - loss: 0.4779 - mse: 0.4779\n",
            "Epoch 29/200\n",
            "3/3 [==============================] - 0s 7ms/step - loss: 0.4638 - mse: 0.4638\n",
            "Epoch 30/200\n",
            "3/3 [==============================] - 0s 7ms/step - loss: 0.4513 - mse: 0.4513\n",
            "Epoch 31/200\n",
            "3/3 [==============================] - 0s 11ms/step - loss: 0.4402 - mse: 0.4402\n",
            "Epoch 32/200\n",
            "3/3 [==============================] - 0s 15ms/step - loss: 0.4282 - mse: 0.4282\n",
            "Epoch 33/200\n",
            "3/3 [==============================] - 0s 13ms/step - loss: 0.4165 - mse: 0.4165\n",
            "Epoch 34/200\n",
            "3/3 [==============================] - 0s 11ms/step - loss: 0.4054 - mse: 0.4054\n",
            "Epoch 35/200\n",
            "3/3 [==============================] - 0s 10ms/step - loss: 0.3948 - mse: 0.3948\n",
            "Epoch 36/200\n",
            "3/3 [==============================] - 0s 10ms/step - loss: 0.3839 - mse: 0.3839\n",
            "Epoch 37/200\n",
            "3/3 [==============================] - 0s 8ms/step - loss: 0.3729 - mse: 0.3729\n",
            "Epoch 38/200\n",
            "3/3 [==============================] - 0s 9ms/step - loss: 0.3626 - mse: 0.3626\n",
            "Epoch 39/200\n",
            "3/3 [==============================] - 0s 9ms/step - loss: 0.3522 - mse: 0.3522\n",
            "Epoch 40/200\n",
            "3/3 [==============================] - 0s 7ms/step - loss: 0.3417 - mse: 0.3417\n",
            "Epoch 41/200\n",
            "3/3 [==============================] - 0s 10ms/step - loss: 0.3319 - mse: 0.3319\n",
            "Epoch 42/200\n",
            "3/3 [==============================] - 0s 12ms/step - loss: 0.3228 - mse: 0.3228\n",
            "Epoch 43/200\n",
            "3/3 [==============================] - 0s 14ms/step - loss: 0.3132 - mse: 0.3132\n",
            "Epoch 44/200\n",
            "3/3 [==============================] - 0s 10ms/step - loss: 0.3037 - mse: 0.3037\n",
            "Epoch 45/200\n",
            "3/3 [==============================] - 0s 7ms/step - loss: 0.2953 - mse: 0.2953\n",
            "Epoch 46/200\n",
            "3/3 [==============================] - 0s 6ms/step - loss: 0.2869 - mse: 0.2869\n",
            "Epoch 47/200\n",
            "3/3 [==============================] - 0s 7ms/step - loss: 0.2783 - mse: 0.2783\n",
            "Epoch 48/200\n",
            "3/3 [==============================] - 0s 6ms/step - loss: 0.2693 - mse: 0.2693\n",
            "Epoch 49/200\n",
            "3/3 [==============================] - 0s 6ms/step - loss: 0.2623 - mse: 0.2623\n",
            "Epoch 50/200\n",
            "3/3 [==============================] - 0s 17ms/step - loss: 0.2538 - mse: 0.2538\n",
            "Epoch 51/200\n",
            "3/3 [==============================] - 0s 11ms/step - loss: 0.2460 - mse: 0.2460\n",
            "Epoch 52/200\n",
            "3/3 [==============================] - 0s 6ms/step - loss: 0.2387 - mse: 0.2387\n",
            "Epoch 53/200\n",
            "3/3 [==============================] - 0s 10ms/step - loss: 0.2317 - mse: 0.2317\n",
            "Epoch 54/200\n",
            "3/3 [==============================] - 0s 6ms/step - loss: 0.2253 - mse: 0.2253\n",
            "Epoch 55/200\n",
            "3/3 [==============================] - 0s 11ms/step - loss: 0.2183 - mse: 0.2183\n",
            "Epoch 56/200\n",
            "3/3 [==============================] - 0s 11ms/step - loss: 0.2125 - mse: 0.2125\n",
            "Epoch 57/200\n",
            "3/3 [==============================] - 0s 12ms/step - loss: 0.2061 - mse: 0.2061\n",
            "Epoch 58/200\n",
            "3/3 [==============================] - 0s 12ms/step - loss: 0.2002 - mse: 0.2002\n",
            "Epoch 59/200\n",
            "3/3 [==============================] - 0s 16ms/step - loss: 0.1951 - mse: 0.1951\n",
            "Epoch 60/200\n",
            "3/3 [==============================] - 0s 10ms/step - loss: 0.1899 - mse: 0.1899\n",
            "Epoch 61/200\n",
            "3/3 [==============================] - 0s 11ms/step - loss: 0.1851 - mse: 0.1851\n",
            "Epoch 62/200\n",
            "3/3 [==============================] - 0s 8ms/step - loss: 0.1799 - mse: 0.1799\n",
            "Epoch 63/200\n",
            "3/3 [==============================] - 0s 13ms/step - loss: 0.1759 - mse: 0.1759\n",
            "Epoch 64/200\n",
            "3/3 [==============================] - 0s 8ms/step - loss: 0.1709 - mse: 0.1709\n",
            "Epoch 65/200\n",
            "3/3 [==============================] - 0s 8ms/step - loss: 0.1674 - mse: 0.1674\n",
            "Epoch 66/200\n",
            "3/3 [==============================] - 0s 7ms/step - loss: 0.1628 - mse: 0.1628\n",
            "Epoch 67/200\n",
            "3/3 [==============================] - 0s 7ms/step - loss: 0.1592 - mse: 0.1592\n",
            "Epoch 68/200\n",
            "3/3 [==============================] - 0s 7ms/step - loss: 0.1556 - mse: 0.1556\n",
            "Epoch 69/200\n",
            "3/3 [==============================] - 0s 6ms/step - loss: 0.1521 - mse: 0.1521\n",
            "Epoch 70/200\n",
            "3/3 [==============================] - 0s 7ms/step - loss: 0.1491 - mse: 0.1491\n",
            "Epoch 71/200\n",
            "3/3 [==============================] - 0s 14ms/step - loss: 0.1462 - mse: 0.1462\n",
            "Epoch 72/200\n",
            "3/3 [==============================] - 0s 10ms/step - loss: 0.1430 - mse: 0.1430\n",
            "Epoch 73/200\n",
            "3/3 [==============================] - 0s 9ms/step - loss: 0.1402 - mse: 0.1402\n",
            "Epoch 74/200\n",
            "3/3 [==============================] - 0s 7ms/step - loss: 0.1373 - mse: 0.1373\n",
            "Epoch 75/200\n",
            "3/3 [==============================] - 0s 11ms/step - loss: 0.1352 - mse: 0.1352\n",
            "Epoch 76/200\n",
            "3/3 [==============================] - 0s 7ms/step - loss: 0.1329 - mse: 0.1329\n",
            "Epoch 77/200\n",
            "3/3 [==============================] - 0s 12ms/step - loss: 0.1307 - mse: 0.1307\n",
            "Epoch 78/200\n",
            "3/3 [==============================] - 0s 8ms/step - loss: 0.1287 - mse: 0.1287\n",
            "Epoch 79/200\n",
            "3/3 [==============================] - 0s 8ms/step - loss: 0.1268 - mse: 0.1268\n",
            "Epoch 80/200\n",
            "3/3 [==============================] - 0s 13ms/step - loss: 0.1251 - mse: 0.1251\n",
            "Epoch 81/200\n",
            "3/3 [==============================] - 0s 7ms/step - loss: 0.1233 - mse: 0.1233\n",
            "Epoch 82/200\n",
            "3/3 [==============================] - 0s 7ms/step - loss: 0.1218 - mse: 0.1218\n",
            "Epoch 83/200\n",
            "3/3 [==============================] - 0s 10ms/step - loss: 0.1202 - mse: 0.1202\n",
            "Epoch 84/200\n",
            "3/3 [==============================] - 0s 7ms/step - loss: 0.1187 - mse: 0.1187\n",
            "Epoch 85/200\n",
            "3/3 [==============================] - 0s 6ms/step - loss: 0.1176 - mse: 0.1176\n",
            "Epoch 86/200\n",
            "3/3 [==============================] - 0s 7ms/step - loss: 0.1162 - mse: 0.1162\n",
            "Epoch 87/200\n",
            "3/3 [==============================] - 0s 12ms/step - loss: 0.1151 - mse: 0.1151\n",
            "Epoch 88/200\n",
            "3/3 [==============================] - 0s 6ms/step - loss: 0.1141 - mse: 0.1141\n",
            "Epoch 89/200\n",
            "3/3 [==============================] - 0s 15ms/step - loss: 0.1130 - mse: 0.1130\n",
            "Epoch 90/200\n",
            "3/3 [==============================] - 0s 8ms/step - loss: 0.1121 - mse: 0.1121\n",
            "Epoch 91/200\n",
            "3/3 [==============================] - 0s 9ms/step - loss: 0.1112 - mse: 0.1112\n",
            "Epoch 92/200\n",
            "3/3 [==============================] - 0s 8ms/step - loss: 0.1103 - mse: 0.1103\n",
            "Epoch 93/200\n",
            "3/3 [==============================] - 0s 8ms/step - loss: 0.1095 - mse: 0.1095\n",
            "Epoch 94/200\n",
            "3/3 [==============================] - 0s 13ms/step - loss: 0.1089 - mse: 0.1089\n",
            "Epoch 95/200\n",
            "3/3 [==============================] - 0s 7ms/step - loss: 0.1081 - mse: 0.1081\n",
            "Epoch 96/200\n",
            "3/3 [==============================] - 0s 12ms/step - loss: 0.1076 - mse: 0.1076\n",
            "Epoch 97/200\n",
            "3/3 [==============================] - 0s 8ms/step - loss: 0.1071 - mse: 0.1071\n",
            "Epoch 98/200\n",
            "3/3 [==============================] - 0s 6ms/step - loss: 0.1065 - mse: 0.1065\n",
            "Epoch 99/200\n",
            "3/3 [==============================] - 0s 7ms/step - loss: 0.1059 - mse: 0.1059\n",
            "Epoch 100/200\n",
            "3/3 [==============================] - 0s 8ms/step - loss: 0.1055 - mse: 0.1055\n",
            "Epoch 101/200\n",
            "3/3 [==============================] - 0s 7ms/step - loss: 0.1050 - mse: 0.1050\n",
            "Epoch 102/200\n",
            "3/3 [==============================] - 0s 7ms/step - loss: 0.1044 - mse: 0.1044\n",
            "Epoch 103/200\n",
            "3/3 [==============================] - 0s 8ms/step - loss: 0.1041 - mse: 0.1041\n",
            "Epoch 104/200\n",
            "3/3 [==============================] - 0s 12ms/step - loss: 0.1036 - mse: 0.1036\n",
            "Epoch 105/200\n",
            "3/3 [==============================] - 0s 7ms/step - loss: 0.1033 - mse: 0.1033\n",
            "Epoch 106/200\n",
            "3/3 [==============================] - 0s 7ms/step - loss: 0.1030 - mse: 0.1030\n",
            "Epoch 107/200\n",
            "3/3 [==============================] - 0s 15ms/step - loss: 0.1026 - mse: 0.1026\n",
            "Epoch 108/200\n",
            "3/3 [==============================] - 0s 8ms/step - loss: 0.1023 - mse: 0.1023\n",
            "Epoch 109/200\n",
            "3/3 [==============================] - 0s 9ms/step - loss: 0.1021 - mse: 0.1021\n",
            "Epoch 110/200\n",
            "3/3 [==============================] - 0s 8ms/step - loss: 0.1018 - mse: 0.1018\n",
            "Epoch 111/200\n",
            "3/3 [==============================] - 0s 8ms/step - loss: 0.1015 - mse: 0.1015\n",
            "Epoch 112/200\n",
            "3/3 [==============================] - 0s 7ms/step - loss: 0.1012 - mse: 0.1012\n",
            "Epoch 113/200\n",
            "3/3 [==============================] - 0s 7ms/step - loss: 0.1009 - mse: 0.1009\n",
            "Epoch 114/200\n",
            "3/3 [==============================] - 0s 8ms/step - loss: 0.1006 - mse: 0.1006\n",
            "Epoch 115/200\n",
            "3/3 [==============================] - 0s 8ms/step - loss: 0.1004 - mse: 0.1004\n",
            "Epoch 116/200\n",
            "3/3 [==============================] - 0s 10ms/step - loss: 0.1002 - mse: 0.1002\n",
            "Epoch 117/200\n",
            "3/3 [==============================] - 0s 23ms/step - loss: 0.1003 - mse: 0.1003\n",
            "Epoch 118/200\n",
            "3/3 [==============================] - 0s 23ms/step - loss: 0.0998 - mse: 0.0998\n",
            "Epoch 119/200\n",
            "3/3 [==============================] - 0s 12ms/step - loss: 0.0996 - mse: 0.0996\n",
            "Epoch 120/200\n",
            "3/3 [==============================] - 0s 15ms/step - loss: 0.0994 - mse: 0.0994\n",
            "Epoch 121/200\n",
            "3/3 [==============================] - 0s 7ms/step - loss: 0.0993 - mse: 0.0993\n",
            "Epoch 122/200\n",
            "3/3 [==============================] - 0s 9ms/step - loss: 0.0991 - mse: 0.0991\n",
            "Epoch 123/200\n",
            "3/3 [==============================] - 0s 22ms/step - loss: 0.0989 - mse: 0.0989\n",
            "Epoch 124/200\n",
            "3/3 [==============================] - 0s 6ms/step - loss: 0.0987 - mse: 0.0987\n",
            "Epoch 125/200\n",
            "3/3 [==============================] - 0s 6ms/step - loss: 0.0986 - mse: 0.0986\n",
            "Epoch 126/200\n",
            "3/3 [==============================] - 0s 7ms/step - loss: 0.0985 - mse: 0.0985\n",
            "Epoch 127/200\n",
            "3/3 [==============================] - 0s 6ms/step - loss: 0.0982 - mse: 0.0982\n",
            "Epoch 128/200\n",
            "3/3 [==============================] - 0s 10ms/step - loss: 0.0981 - mse: 0.0981\n",
            "Epoch 129/200\n",
            "3/3 [==============================] - 0s 13ms/step - loss: 0.0980 - mse: 0.0980\n",
            "Epoch 130/200\n",
            "3/3 [==============================] - 0s 11ms/step - loss: 0.0978 - mse: 0.0978\n",
            "Epoch 131/200\n",
            "3/3 [==============================] - 0s 17ms/step - loss: 0.0976 - mse: 0.0976\n",
            "Epoch 132/200\n",
            "3/3 [==============================] - 0s 9ms/step - loss: 0.0974 - mse: 0.0974\n",
            "Epoch 133/200\n",
            "3/3 [==============================] - 0s 10ms/step - loss: 0.0973 - mse: 0.0973\n",
            "Epoch 134/200\n",
            "3/3 [==============================] - 0s 10ms/step - loss: 0.0973 - mse: 0.0973\n",
            "Epoch 135/200\n",
            "3/3 [==============================] - 0s 6ms/step - loss: 0.0973 - mse: 0.0973\n",
            "Epoch 136/200\n",
            "3/3 [==============================] - 0s 6ms/step - loss: 0.0971 - mse: 0.0971\n",
            "Epoch 137/200\n",
            "3/3 [==============================] - 0s 18ms/step - loss: 0.0967 - mse: 0.0967\n",
            "Epoch 138/200\n",
            "3/3 [==============================] - 0s 12ms/step - loss: 0.0966 - mse: 0.0966\n",
            "Epoch 139/200\n",
            "3/3 [==============================] - 0s 10ms/step - loss: 0.0965 - mse: 0.0965\n",
            "Epoch 140/200\n",
            "3/3 [==============================] - 0s 9ms/step - loss: 0.0966 - mse: 0.0966\n",
            "Epoch 141/200\n",
            "3/3 [==============================] - 0s 12ms/step - loss: 0.0964 - mse: 0.0964\n",
            "Epoch 142/200\n",
            "3/3 [==============================] - 0s 8ms/step - loss: 0.0962 - mse: 0.0962\n",
            "Epoch 143/200\n",
            "3/3 [==============================] - 0s 9ms/step - loss: 0.0962 - mse: 0.0962\n",
            "Epoch 144/200\n",
            "3/3 [==============================] - 0s 11ms/step - loss: 0.0961 - mse: 0.0961\n",
            "Epoch 145/200\n",
            "3/3 [==============================] - 0s 9ms/step - loss: 0.0961 - mse: 0.0961\n",
            "Epoch 146/200\n",
            "3/3 [==============================] - 0s 11ms/step - loss: 0.0959 - mse: 0.0959\n",
            "Epoch 147/200\n",
            "3/3 [==============================] - 0s 7ms/step - loss: 0.0956 - mse: 0.0956\n",
            "Epoch 148/200\n",
            "3/3 [==============================] - 0s 9ms/step - loss: 0.0955 - mse: 0.0955\n",
            "Epoch 149/200\n",
            "3/3 [==============================] - 0s 8ms/step - loss: 0.0955 - mse: 0.0955\n",
            "Epoch 150/200\n",
            "3/3 [==============================] - 0s 10ms/step - loss: 0.0952 - mse: 0.0952\n",
            "Epoch 151/200\n",
            "3/3 [==============================] - 0s 6ms/step - loss: 0.0950 - mse: 0.0950\n",
            "Epoch 152/200\n",
            "3/3 [==============================] - 0s 8ms/step - loss: 0.0948 - mse: 0.0948\n",
            "Epoch 153/200\n",
            "3/3 [==============================] - 0s 9ms/step - loss: 0.0946 - mse: 0.0946\n",
            "Epoch 154/200\n",
            "3/3 [==============================] - 0s 15ms/step - loss: 0.0946 - mse: 0.0946\n",
            "Epoch 155/200\n",
            "3/3 [==============================] - 0s 10ms/step - loss: 0.0946 - mse: 0.0946\n",
            "Epoch 156/200\n",
            "3/3 [==============================] - 0s 8ms/step - loss: 0.0944 - mse: 0.0944\n",
            "Epoch 157/200\n",
            "3/3 [==============================] - 0s 18ms/step - loss: 0.0944 - mse: 0.0944\n",
            "Epoch 158/200\n",
            "3/3 [==============================] - 0s 7ms/step - loss: 0.0941 - mse: 0.0941\n",
            "Epoch 159/200\n",
            "3/3 [==============================] - 0s 7ms/step - loss: 0.0940 - mse: 0.0940\n",
            "Epoch 160/200\n",
            "3/3 [==============================] - 0s 8ms/step - loss: 0.0940 - mse: 0.0940\n",
            "Epoch 161/200\n",
            "3/3 [==============================] - 0s 15ms/step - loss: 0.0938 - mse: 0.0938\n",
            "Epoch 162/200\n",
            "3/3 [==============================] - 0s 14ms/step - loss: 0.0938 - mse: 0.0938\n",
            "Epoch 163/200\n",
            "3/3 [==============================] - 0s 13ms/step - loss: 0.0938 - mse: 0.0938\n",
            "Epoch 164/200\n",
            "3/3 [==============================] - 0s 8ms/step - loss: 0.0937 - mse: 0.0937\n",
            "Epoch 165/200\n",
            "3/3 [==============================] - 0s 7ms/step - loss: 0.0934 - mse: 0.0934\n",
            "Epoch 166/200\n",
            "3/3 [==============================] - 0s 8ms/step - loss: 0.0933 - mse: 0.0933\n",
            "Epoch 167/200\n",
            "3/3 [==============================] - 0s 9ms/step - loss: 0.0933 - mse: 0.0933\n",
            "Epoch 168/200\n",
            "3/3 [==============================] - 0s 11ms/step - loss: 0.0932 - mse: 0.0932\n",
            "Epoch 169/200\n",
            "3/3 [==============================] - 0s 19ms/step - loss: 0.0930 - mse: 0.0930\n",
            "Epoch 170/200\n",
            "3/3 [==============================] - 0s 21ms/step - loss: 0.0929 - mse: 0.0929\n",
            "Epoch 171/200\n",
            "3/3 [==============================] - 0s 8ms/step - loss: 0.0926 - mse: 0.0926\n",
            "Epoch 172/200\n",
            "3/3 [==============================] - 0s 7ms/step - loss: 0.0925 - mse: 0.0925\n",
            "Epoch 173/200\n",
            "3/3 [==============================] - 0s 8ms/step - loss: 0.0924 - mse: 0.0924\n",
            "Epoch 174/200\n",
            "3/3 [==============================] - 0s 7ms/step - loss: 0.0923 - mse: 0.0923\n",
            "Epoch 175/200\n",
            "3/3 [==============================] - 0s 8ms/step - loss: 0.0923 - mse: 0.0923\n",
            "Epoch 176/200\n",
            "3/3 [==============================] - 0s 8ms/step - loss: 0.0922 - mse: 0.0922\n",
            "Epoch 177/200\n",
            "3/3 [==============================] - 0s 12ms/step - loss: 0.0922 - mse: 0.0922\n",
            "Epoch 178/200\n",
            "3/3 [==============================] - 0s 8ms/step - loss: 0.0919 - mse: 0.0919\n",
            "Epoch 179/200\n",
            "3/3 [==============================] - 0s 8ms/step - loss: 0.0917 - mse: 0.0917\n",
            "Epoch 180/200\n",
            "3/3 [==============================] - 0s 8ms/step - loss: 0.0917 - mse: 0.0917\n",
            "Epoch 181/200\n",
            "3/3 [==============================] - 0s 7ms/step - loss: 0.0917 - mse: 0.0917\n",
            "Epoch 182/200\n",
            "3/3 [==============================] - 0s 8ms/step - loss: 0.0917 - mse: 0.0917\n",
            "Epoch 183/200\n",
            "3/3 [==============================] - 0s 8ms/step - loss: 0.0918 - mse: 0.0918\n",
            "Epoch 184/200\n",
            "3/3 [==============================] - 0s 8ms/step - loss: 0.0915 - mse: 0.0915\n",
            "Epoch 185/200\n",
            "3/3 [==============================] - 0s 11ms/step - loss: 0.0914 - mse: 0.0914\n",
            "Epoch 186/200\n",
            "3/3 [==============================] - 0s 8ms/step - loss: 0.0914 - mse: 0.0914\n",
            "Epoch 187/200\n",
            "3/3 [==============================] - 0s 12ms/step - loss: 0.0912 - mse: 0.0912\n",
            "Epoch 188/200\n",
            "3/3 [==============================] - 0s 9ms/step - loss: 0.0911 - mse: 0.0911\n",
            "Epoch 189/200\n",
            "3/3 [==============================] - 0s 7ms/step - loss: 0.0911 - mse: 0.0911\n",
            "Epoch 190/200\n",
            "3/3 [==============================] - 0s 7ms/step - loss: 0.0908 - mse: 0.0908\n",
            "Epoch 191/200\n",
            "3/3 [==============================] - 0s 10ms/step - loss: 0.0909 - mse: 0.0909\n",
            "Epoch 192/200\n",
            "3/3 [==============================] - 0s 10ms/step - loss: 0.0909 - mse: 0.0909\n",
            "Epoch 193/200\n",
            "3/3 [==============================] - 0s 13ms/step - loss: 0.0908 - mse: 0.0908\n",
            "Epoch 194/200\n",
            "3/3 [==============================] - 0s 9ms/step - loss: 0.0908 - mse: 0.0908\n",
            "Epoch 195/200\n",
            "3/3 [==============================] - 0s 12ms/step - loss: 0.0908 - mse: 0.0908\n",
            "Epoch 196/200\n",
            "3/3 [==============================] - 0s 16ms/step - loss: 0.0906 - mse: 0.0906\n",
            "Epoch 197/200\n",
            "3/3 [==============================] - 0s 7ms/step - loss: 0.0906 - mse: 0.0906\n",
            "Epoch 198/200\n",
            "3/3 [==============================] - 0s 11ms/step - loss: 0.0905 - mse: 0.0905\n",
            "Epoch 199/200\n",
            "3/3 [==============================] - 0s 12ms/step - loss: 0.0903 - mse: 0.0903\n",
            "Epoch 200/200\n",
            "3/3 [==============================] - 0s 7ms/step - loss: 0.0903 - mse: 0.0903\n"
          ]
        },
        {
          "output_type": "execute_result",
          "data": {
            "text/plain": [
              "<keras.src.callbacks.History at 0x78b9efba7370>"
            ]
          },
          "metadata": {},
          "execution_count": 5
        }
      ]
    },
    {
      "cell_type": "markdown",
      "source": [
        "**Menguji Model**"
      ],
      "metadata": {
        "id": "Rx9ocIvU1mYi"
      }
    },
    {
      "cell_type": "code",
      "source": [
        "y_pred = model.predict(X_test)\n",
        "\n",
        "mse = mean_squared_error(y_test, y_pred)\n",
        "print(f'Mean Squared Error on Test Data: {mse}')"
      ],
      "metadata": {
        "colab": {
          "base_uri": "https://localhost:8080/"
        },
        "id": "RQwXer_mmBAe",
        "outputId": "64acbd5d-32e1-4a55-bc3b-f0b17e58b9b3"
      },
      "execution_count": 6,
      "outputs": [
        {
          "output_type": "stream",
          "name": "stdout",
          "text": [
            "1/1 [==============================] - 0s 349ms/step\n",
            "Mean Squared Error on Test Data: 0.059613431718440364\n"
          ]
        }
      ]
    },
    {
      "cell_type": "markdown",
      "source": [
        "**Visualisasi Hasil Prediksi**"
      ],
      "metadata": {
        "id": "mE9X3cif1wix"
      }
    },
    {
      "cell_type": "code",
      "source": [
        "X_test_denormalized = X_test * std_X + mean_X\n",
        "y_test_denormalized = y_test * std_y + mean_y\n",
        "y_pred_denormalized = y_pred * std_y + mean_y\n",
        "\n",
        "import plotly.graph_objects as go\n",
        "\n",
        "# Visualisasi hubungan antara variabel Distance, Type, dan Fare menggunakan Plotly\n",
        "fig = go.Figure(data=[\n",
        "    go.Scatter3d(\n",
        "        x=X_test_denormalized['Distance'],\n",
        "        y=X_test_denormalized['Type_Student'],\n",
        "        z=y_test_denormalized,\n",
        "        mode='markers',\n",
        "        name='True Fare',\n",
        "        marker=dict(size=4)\n",
        "    ),\n",
        "    go.Scatter3d(\n",
        "        x=X_test_denormalized['Distance'],\n",
        "        y=X_test_denormalized['Type_Student'],\n",
        "        z=y_pred_denormalized.flatten(),\n",
        "        mode='markers',\n",
        "        name='Predicted Fare',\n",
        "        marker=dict(size=4)\n",
        "    )\n",
        "])\n",
        "\n",
        "fig.update_layout(\n",
        "    scene=dict(\n",
        "        xaxis=dict(title='Distance'),\n",
        "        yaxis=dict(title='Type'),\n",
        "        zaxis=dict(title='Fare'),\n",
        "    ),\n",
        "    title='Relationship between Distance, Type, and Fare',\n",
        "    margin=dict(l=0, r=0, b=0, t=40)\n",
        ")\n",
        "\n",
        "fig.show()\n"
      ],
      "metadata": {
        "colab": {
          "base_uri": "https://localhost:8080/",
          "height": 542
        },
        "id": "57He_eLUmGfp",
        "outputId": "ed4d4ec6-20c8-4bfe-a592-cc74daf4fa3d"
      },
      "execution_count": 7,
      "outputs": [
        {
          "output_type": "display_data",
          "data": {
            "text/html": [
              "<html>\n",
              "<head><meta charset=\"utf-8\" /></head>\n",
              "<body>\n",
              "    <div>            <script src=\"https://cdnjs.cloudflare.com/ajax/libs/mathjax/2.7.5/MathJax.js?config=TeX-AMS-MML_SVG\"></script><script type=\"text/javascript\">if (window.MathJax && window.MathJax.Hub && window.MathJax.Hub.Config) {window.MathJax.Hub.Config({SVG: {font: \"STIX-Web\"}});}</script>                <script type=\"text/javascript\">window.PlotlyConfig = {MathJaxConfig: 'local'};</script>\n",
              "        <script charset=\"utf-8\" src=\"https://cdn.plot.ly/plotly-2.24.1.min.js\"></script>                <div id=\"f5ac36f1-57ba-40bf-99a1-41ef0e2f0492\" class=\"plotly-graph-div\" style=\"height:525px; width:100%;\"></div>            <script type=\"text/javascript\">                                    window.PLOTLYENV=window.PLOTLYENV || {};                                    if (document.getElementById(\"f5ac36f1-57ba-40bf-99a1-41ef0e2f0492\")) {                    Plotly.newPlot(                        \"f5ac36f1-57ba-40bf-99a1-41ef0e2f0492\",                        [{\"marker\":{\"size\":4},\"mode\":\"markers\",\"name\":\"True Fare\",\"x\":[4365.0,9201.0,8765.0,6876.0,6201.0,5987.0,12098.0,6789.0,2789.0,2210.0,3241.0,4687.0,13876.0,11654.0,10432.0,2345.0,10987.0,5123.0,2876.0,3987.0,14232.0],\"y\":[1.0,1.0,0.0,0.0,1.0,0.0,1.0,1.0,0.0,1.0,1.0,0.0,1.0,1.0,1.0,0.0,0.0,0.0,0.0,0.0,0.0],\"z\":[3000.0,6000.0,7000.0,6000.0,4000.0,5000.0,7000.0,5000.0,3000.0,2000.0,3000.0,4000.0,8000.0,7000.0,5000.0,4000.0,8000.0,4000.0,4000.0,5000.0,9000.0],\"type\":\"scatter3d\"},{\"marker\":{\"size\":4},\"mode\":\"markers\",\"name\":\"Predicted Fare\",\"x\":[4365.0,9201.0,8765.0,6876.0,6201.0,5987.0,12098.0,6789.0,2789.0,2210.0,3241.0,4687.0,13876.0,11654.0,10432.0,2345.0,10987.0,5123.0,2876.0,3987.0,14232.0],\"y\":[1.0,1.0,0.0,0.0,1.0,0.0,1.0,1.0,0.0,1.0,1.0,0.0,1.0,1.0,1.0,0.0,0.0,0.0,0.0,0.0,0.0],\"z\":[3458.8564453125,5904.5302734375,7249.125,5565.20556640625,4589.99267578125,5184.4697265625,6930.2734375,4952.251953125,3132.948486328125,2145.8203125,2766.374755859375,4627.712890625,7515.5390625,6750.48046875,6329.05712890625,3537.70947265625,8577.70703125,4814.44091796875,3869.135986328125,4541.03857421875,8469.2509765625],\"type\":\"scatter3d\"}],                        {\"template\":{\"data\":{\"histogram2dcontour\":[{\"type\":\"histogram2dcontour\",\"colorbar\":{\"outlinewidth\":0,\"ticks\":\"\"},\"colorscale\":[[0.0,\"#0d0887\"],[0.1111111111111111,\"#46039f\"],[0.2222222222222222,\"#7201a8\"],[0.3333333333333333,\"#9c179e\"],[0.4444444444444444,\"#bd3786\"],[0.5555555555555556,\"#d8576b\"],[0.6666666666666666,\"#ed7953\"],[0.7777777777777778,\"#fb9f3a\"],[0.8888888888888888,\"#fdca26\"],[1.0,\"#f0f921\"]]}],\"choropleth\":[{\"type\":\"choropleth\",\"colorbar\":{\"outlinewidth\":0,\"ticks\":\"\"}}],\"histogram2d\":[{\"type\":\"histogram2d\",\"colorbar\":{\"outlinewidth\":0,\"ticks\":\"\"},\"colorscale\":[[0.0,\"#0d0887\"],[0.1111111111111111,\"#46039f\"],[0.2222222222222222,\"#7201a8\"],[0.3333333333333333,\"#9c179e\"],[0.4444444444444444,\"#bd3786\"],[0.5555555555555556,\"#d8576b\"],[0.6666666666666666,\"#ed7953\"],[0.7777777777777778,\"#fb9f3a\"],[0.8888888888888888,\"#fdca26\"],[1.0,\"#f0f921\"]]}],\"heatmap\":[{\"type\":\"heatmap\",\"colorbar\":{\"outlinewidth\":0,\"ticks\":\"\"},\"colorscale\":[[0.0,\"#0d0887\"],[0.1111111111111111,\"#46039f\"],[0.2222222222222222,\"#7201a8\"],[0.3333333333333333,\"#9c179e\"],[0.4444444444444444,\"#bd3786\"],[0.5555555555555556,\"#d8576b\"],[0.6666666666666666,\"#ed7953\"],[0.7777777777777778,\"#fb9f3a\"],[0.8888888888888888,\"#fdca26\"],[1.0,\"#f0f921\"]]}],\"heatmapgl\":[{\"type\":\"heatmapgl\",\"colorbar\":{\"outlinewidth\":0,\"ticks\":\"\"},\"colorscale\":[[0.0,\"#0d0887\"],[0.1111111111111111,\"#46039f\"],[0.2222222222222222,\"#7201a8\"],[0.3333333333333333,\"#9c179e\"],[0.4444444444444444,\"#bd3786\"],[0.5555555555555556,\"#d8576b\"],[0.6666666666666666,\"#ed7953\"],[0.7777777777777778,\"#fb9f3a\"],[0.8888888888888888,\"#fdca26\"],[1.0,\"#f0f921\"]]}],\"contourcarpet\":[{\"type\":\"contourcarpet\",\"colorbar\":{\"outlinewidth\":0,\"ticks\":\"\"}}],\"contour\":[{\"type\":\"contour\",\"colorbar\":{\"outlinewidth\":0,\"ticks\":\"\"},\"colorscale\":[[0.0,\"#0d0887\"],[0.1111111111111111,\"#46039f\"],[0.2222222222222222,\"#7201a8\"],[0.3333333333333333,\"#9c179e\"],[0.4444444444444444,\"#bd3786\"],[0.5555555555555556,\"#d8576b\"],[0.6666666666666666,\"#ed7953\"],[0.7777777777777778,\"#fb9f3a\"],[0.8888888888888888,\"#fdca26\"],[1.0,\"#f0f921\"]]}],\"surface\":[{\"type\":\"surface\",\"colorbar\":{\"outlinewidth\":0,\"ticks\":\"\"},\"colorscale\":[[0.0,\"#0d0887\"],[0.1111111111111111,\"#46039f\"],[0.2222222222222222,\"#7201a8\"],[0.3333333333333333,\"#9c179e\"],[0.4444444444444444,\"#bd3786\"],[0.5555555555555556,\"#d8576b\"],[0.6666666666666666,\"#ed7953\"],[0.7777777777777778,\"#fb9f3a\"],[0.8888888888888888,\"#fdca26\"],[1.0,\"#f0f921\"]]}],\"mesh3d\":[{\"type\":\"mesh3d\",\"colorbar\":{\"outlinewidth\":0,\"ticks\":\"\"}}],\"scatter\":[{\"fillpattern\":{\"fillmode\":\"overlay\",\"size\":10,\"solidity\":0.2},\"type\":\"scatter\"}],\"parcoords\":[{\"type\":\"parcoords\",\"line\":{\"colorbar\":{\"outlinewidth\":0,\"ticks\":\"\"}}}],\"scatterpolargl\":[{\"type\":\"scatterpolargl\",\"marker\":{\"colorbar\":{\"outlinewidth\":0,\"ticks\":\"\"}}}],\"bar\":[{\"error_x\":{\"color\":\"#2a3f5f\"},\"error_y\":{\"color\":\"#2a3f5f\"},\"marker\":{\"line\":{\"color\":\"#E5ECF6\",\"width\":0.5},\"pattern\":{\"fillmode\":\"overlay\",\"size\":10,\"solidity\":0.2}},\"type\":\"bar\"}],\"scattergeo\":[{\"type\":\"scattergeo\",\"marker\":{\"colorbar\":{\"outlinewidth\":0,\"ticks\":\"\"}}}],\"scatterpolar\":[{\"type\":\"scatterpolar\",\"marker\":{\"colorbar\":{\"outlinewidth\":0,\"ticks\":\"\"}}}],\"histogram\":[{\"marker\":{\"pattern\":{\"fillmode\":\"overlay\",\"size\":10,\"solidity\":0.2}},\"type\":\"histogram\"}],\"scattergl\":[{\"type\":\"scattergl\",\"marker\":{\"colorbar\":{\"outlinewidth\":0,\"ticks\":\"\"}}}],\"scatter3d\":[{\"type\":\"scatter3d\",\"line\":{\"colorbar\":{\"outlinewidth\":0,\"ticks\":\"\"}},\"marker\":{\"colorbar\":{\"outlinewidth\":0,\"ticks\":\"\"}}}],\"scattermapbox\":[{\"type\":\"scattermapbox\",\"marker\":{\"colorbar\":{\"outlinewidth\":0,\"ticks\":\"\"}}}],\"scatterternary\":[{\"type\":\"scatterternary\",\"marker\":{\"colorbar\":{\"outlinewidth\":0,\"ticks\":\"\"}}}],\"scattercarpet\":[{\"type\":\"scattercarpet\",\"marker\":{\"colorbar\":{\"outlinewidth\":0,\"ticks\":\"\"}}}],\"carpet\":[{\"aaxis\":{\"endlinecolor\":\"#2a3f5f\",\"gridcolor\":\"white\",\"linecolor\":\"white\",\"minorgridcolor\":\"white\",\"startlinecolor\":\"#2a3f5f\"},\"baxis\":{\"endlinecolor\":\"#2a3f5f\",\"gridcolor\":\"white\",\"linecolor\":\"white\",\"minorgridcolor\":\"white\",\"startlinecolor\":\"#2a3f5f\"},\"type\":\"carpet\"}],\"table\":[{\"cells\":{\"fill\":{\"color\":\"#EBF0F8\"},\"line\":{\"color\":\"white\"}},\"header\":{\"fill\":{\"color\":\"#C8D4E3\"},\"line\":{\"color\":\"white\"}},\"type\":\"table\"}],\"barpolar\":[{\"marker\":{\"line\":{\"color\":\"#E5ECF6\",\"width\":0.5},\"pattern\":{\"fillmode\":\"overlay\",\"size\":10,\"solidity\":0.2}},\"type\":\"barpolar\"}],\"pie\":[{\"automargin\":true,\"type\":\"pie\"}]},\"layout\":{\"autotypenumbers\":\"strict\",\"colorway\":[\"#636efa\",\"#EF553B\",\"#00cc96\",\"#ab63fa\",\"#FFA15A\",\"#19d3f3\",\"#FF6692\",\"#B6E880\",\"#FF97FF\",\"#FECB52\"],\"font\":{\"color\":\"#2a3f5f\"},\"hovermode\":\"closest\",\"hoverlabel\":{\"align\":\"left\"},\"paper_bgcolor\":\"white\",\"plot_bgcolor\":\"#E5ECF6\",\"polar\":{\"bgcolor\":\"#E5ECF6\",\"angularaxis\":{\"gridcolor\":\"white\",\"linecolor\":\"white\",\"ticks\":\"\"},\"radialaxis\":{\"gridcolor\":\"white\",\"linecolor\":\"white\",\"ticks\":\"\"}},\"ternary\":{\"bgcolor\":\"#E5ECF6\",\"aaxis\":{\"gridcolor\":\"white\",\"linecolor\":\"white\",\"ticks\":\"\"},\"baxis\":{\"gridcolor\":\"white\",\"linecolor\":\"white\",\"ticks\":\"\"},\"caxis\":{\"gridcolor\":\"white\",\"linecolor\":\"white\",\"ticks\":\"\"}},\"coloraxis\":{\"colorbar\":{\"outlinewidth\":0,\"ticks\":\"\"}},\"colorscale\":{\"sequential\":[[0.0,\"#0d0887\"],[0.1111111111111111,\"#46039f\"],[0.2222222222222222,\"#7201a8\"],[0.3333333333333333,\"#9c179e\"],[0.4444444444444444,\"#bd3786\"],[0.5555555555555556,\"#d8576b\"],[0.6666666666666666,\"#ed7953\"],[0.7777777777777778,\"#fb9f3a\"],[0.8888888888888888,\"#fdca26\"],[1.0,\"#f0f921\"]],\"sequentialminus\":[[0.0,\"#0d0887\"],[0.1111111111111111,\"#46039f\"],[0.2222222222222222,\"#7201a8\"],[0.3333333333333333,\"#9c179e\"],[0.4444444444444444,\"#bd3786\"],[0.5555555555555556,\"#d8576b\"],[0.6666666666666666,\"#ed7953\"],[0.7777777777777778,\"#fb9f3a\"],[0.8888888888888888,\"#fdca26\"],[1.0,\"#f0f921\"]],\"diverging\":[[0,\"#8e0152\"],[0.1,\"#c51b7d\"],[0.2,\"#de77ae\"],[0.3,\"#f1b6da\"],[0.4,\"#fde0ef\"],[0.5,\"#f7f7f7\"],[0.6,\"#e6f5d0\"],[0.7,\"#b8e186\"],[0.8,\"#7fbc41\"],[0.9,\"#4d9221\"],[1,\"#276419\"]]},\"xaxis\":{\"gridcolor\":\"white\",\"linecolor\":\"white\",\"ticks\":\"\",\"title\":{\"standoff\":15},\"zerolinecolor\":\"white\",\"automargin\":true,\"zerolinewidth\":2},\"yaxis\":{\"gridcolor\":\"white\",\"linecolor\":\"white\",\"ticks\":\"\",\"title\":{\"standoff\":15},\"zerolinecolor\":\"white\",\"automargin\":true,\"zerolinewidth\":2},\"scene\":{\"xaxis\":{\"backgroundcolor\":\"#E5ECF6\",\"gridcolor\":\"white\",\"linecolor\":\"white\",\"showbackground\":true,\"ticks\":\"\",\"zerolinecolor\":\"white\",\"gridwidth\":2},\"yaxis\":{\"backgroundcolor\":\"#E5ECF6\",\"gridcolor\":\"white\",\"linecolor\":\"white\",\"showbackground\":true,\"ticks\":\"\",\"zerolinecolor\":\"white\",\"gridwidth\":2},\"zaxis\":{\"backgroundcolor\":\"#E5ECF6\",\"gridcolor\":\"white\",\"linecolor\":\"white\",\"showbackground\":true,\"ticks\":\"\",\"zerolinecolor\":\"white\",\"gridwidth\":2}},\"shapedefaults\":{\"line\":{\"color\":\"#2a3f5f\"}},\"annotationdefaults\":{\"arrowcolor\":\"#2a3f5f\",\"arrowhead\":0,\"arrowwidth\":1},\"geo\":{\"bgcolor\":\"white\",\"landcolor\":\"#E5ECF6\",\"subunitcolor\":\"white\",\"showland\":true,\"showlakes\":true,\"lakecolor\":\"white\"},\"title\":{\"x\":0.05},\"mapbox\":{\"style\":\"light\"}}},\"margin\":{\"l\":0,\"r\":0,\"b\":0,\"t\":40},\"scene\":{\"xaxis\":{\"title\":{\"text\":\"Distance\"}},\"yaxis\":{\"title\":{\"text\":\"Type\"}},\"zaxis\":{\"title\":{\"text\":\"Fare\"}}},\"title\":{\"text\":\"Relationship between Distance, Type, and Fare\"}},                        {\"responsive\": true}                    ).then(function(){\n",
              "                            \n",
              "var gd = document.getElementById('f5ac36f1-57ba-40bf-99a1-41ef0e2f0492');\n",
              "var x = new MutationObserver(function (mutations, observer) {{\n",
              "        var display = window.getComputedStyle(gd).display;\n",
              "        if (!display || display === 'none') {{\n",
              "            console.log([gd, 'removed!']);\n",
              "            Plotly.purge(gd);\n",
              "            observer.disconnect();\n",
              "        }}\n",
              "}});\n",
              "\n",
              "// Listen for the removal of the full notebook cells\n",
              "var notebookContainer = gd.closest('#notebook-container');\n",
              "if (notebookContainer) {{\n",
              "    x.observe(notebookContainer, {childList: true});\n",
              "}}\n",
              "\n",
              "// Listen for the clearing of the current output cell\n",
              "var outputEl = gd.closest('.output');\n",
              "if (outputEl) {{\n",
              "    x.observe(outputEl, {childList: true});\n",
              "}}\n",
              "\n",
              "                        })                };                            </script>        </div>\n",
              "</body>\n",
              "</html>"
            ]
          },
          "metadata": {}
        }
      ]
    },
    {
      "cell_type": "markdown",
      "source": [
        "**Tes Model dengan data baru**"
      ],
      "metadata": {
        "id": "cRQ8Tu3QLl0Z"
      }
    },
    {
      "cell_type": "code",
      "source": [
        "test_values = pd.DataFrame({'Distance': [10000, 10000, 10000],\n",
        "                            'Type_General': [1, 0, 0],\n",
        "                            'Type_Student': [0, 1, 0],\n",
        "                            'Type_Elderly': [0, 0, 1]})\n",
        "\n",
        "test_values_normalized = (test_values - mean_X) / std_X\n",
        "\n",
        "predicted_fares_normalized = model.predict(test_values_normalized)\n",
        "\n",
        "predicted_fares_denormalized = predicted_fares_normalized * std_y + mean_y\n",
        "\n",
        "for i in range(len(test_values)):\n",
        "    predicted_fare_denormalized = predicted_fares_denormalized[i][0]\n",
        "    rounded_predicted_fare = np.round(predicted_fare_denormalized / 1000) * 1000\n",
        "    fare_type = test_values.iloc[i, 1:].idxmax()\n",
        "\n",
        "    print(f'Jarak: {test_values[\"Distance\"][i]}, Type: {fare_type}, Predicted Fare (Rounded): {rounded_predicted_fare}')\n"
      ],
      "metadata": {
        "colab": {
          "base_uri": "https://localhost:8080/"
        },
        "id": "X5-7nsK1mPk2",
        "outputId": "ad0dcdf1-ff06-4a23-95e8-de7615642f57"
      },
      "execution_count": 9,
      "outputs": [
        {
          "output_type": "stream",
          "name": "stdout",
          "text": [
            "1/1 [==============================] - 0s 34ms/step\n",
            "Jarak: 10000, Type: Type_General, Predicted Fare (Rounded): 8000.0\n",
            "Jarak: 10000, Type: Type_Student, Predicted Fare (Rounded): 6000.0\n",
            "Jarak: 10000, Type: Type_Elderly, Predicted Fare (Rounded): 7000.0\n"
          ]
        }
      ]
    },
    {
      "cell_type": "markdown",
      "source": [
        "# **Convert Model**"
      ],
      "metadata": {
        "id": "Wl6mwq_0yq4v"
      }
    },
    {
      "cell_type": "markdown",
      "source": [
        "Install tensorflowjs"
      ],
      "metadata": {
        "id": "aypzPhbJy7Ch"
      }
    },
    {
      "cell_type": "code",
      "source": [
        "pip install tensorflowjs"
      ],
      "metadata": {
        "colab": {
          "base_uri": "https://localhost:8080/",
          "height": 1000
        },
        "id": "Y4h8TXvynKDn",
        "outputId": "52d57515-0901-4e26-894b-bedfbca5a6f8"
      },
      "execution_count": 10,
      "outputs": [
        {
          "output_type": "stream",
          "name": "stdout",
          "text": [
            "Collecting tensorflowjs\n",
            "  Downloading tensorflowjs-4.14.0-py3-none-any.whl (89 kB)\n",
            "\u001b[?25l     \u001b[90m━━━━━━━━━━━━━━━━━━━━━━━━━━━━━━━━━━━━━━━━\u001b[0m \u001b[32m0.0/89.2 kB\u001b[0m \u001b[31m?\u001b[0m eta \u001b[36m-:--:--\u001b[0m\r\u001b[2K     \u001b[91m━━━━━━━━━━━━━━━━━━━━━━━━━━━━━━━━━━━━\u001b[0m\u001b[91m╸\u001b[0m\u001b[90m━━━\u001b[0m \u001b[32m81.9/89.2 kB\u001b[0m \u001b[31m2.4 MB/s\u001b[0m eta \u001b[36m0:00:01\u001b[0m\r\u001b[2K     \u001b[90m━━━━━━━━━━━━━━━━━━━━━━━━━━━━━━━━━━━━━━━━\u001b[0m \u001b[32m89.2/89.2 kB\u001b[0m \u001b[31m2.1 MB/s\u001b[0m eta \u001b[36m0:00:00\u001b[0m\n",
            "\u001b[?25hRequirement already satisfied: flax>=0.7.2 in /usr/local/lib/python3.10/dist-packages (from tensorflowjs) (0.7.5)\n",
            "Requirement already satisfied: importlib_resources>=5.9.0 in /usr/local/lib/python3.10/dist-packages (from tensorflowjs) (6.1.1)\n",
            "Requirement already satisfied: jax>=0.4.13 in /usr/local/lib/python3.10/dist-packages (from tensorflowjs) (0.4.20)\n",
            "Requirement already satisfied: jaxlib>=0.4.13 in /usr/local/lib/python3.10/dist-packages (from tensorflowjs) (0.4.20+cuda11.cudnn86)\n",
            "Requirement already satisfied: tensorflow<3,>=2.13.0 in /usr/local/lib/python3.10/dist-packages (from tensorflowjs) (2.14.0)\n",
            "Collecting tensorflow-decision-forests>=1.5.0 (from tensorflowjs)\n",
            "  Downloading tensorflow_decision_forests-1.8.1-cp310-cp310-manylinux_2_17_x86_64.manylinux2014_x86_64.whl (15.3 MB)\n",
            "\u001b[2K     \u001b[90m━━━━━━━━━━━━━━━━━━━━━━━━━━━━━━━━━━━━━━━━\u001b[0m \u001b[32m15.3/15.3 MB\u001b[0m \u001b[31m76.1 MB/s\u001b[0m eta \u001b[36m0:00:00\u001b[0m\n",
            "\u001b[?25hRequirement already satisfied: six<2,>=1.16.0 in /usr/local/lib/python3.10/dist-packages (from tensorflowjs) (1.16.0)\n",
            "Requirement already satisfied: tensorflow-hub>=0.14.0 in /usr/local/lib/python3.10/dist-packages (from tensorflowjs) (0.15.0)\n",
            "Requirement already satisfied: packaging~=23.1 in /usr/local/lib/python3.10/dist-packages (from tensorflowjs) (23.2)\n",
            "Requirement already satisfied: numpy>=1.22 in /usr/local/lib/python3.10/dist-packages (from flax>=0.7.2->tensorflowjs) (1.23.5)\n",
            "Requirement already satisfied: msgpack in /usr/local/lib/python3.10/dist-packages (from flax>=0.7.2->tensorflowjs) (1.0.7)\n",
            "Requirement already satisfied: optax in /usr/local/lib/python3.10/dist-packages (from flax>=0.7.2->tensorflowjs) (0.1.7)\n",
            "Requirement already satisfied: orbax-checkpoint in /usr/local/lib/python3.10/dist-packages (from flax>=0.7.2->tensorflowjs) (0.4.3)\n",
            "Requirement already satisfied: tensorstore in /usr/local/lib/python3.10/dist-packages (from flax>=0.7.2->tensorflowjs) (0.1.45)\n",
            "Requirement already satisfied: rich>=11.1 in /usr/local/lib/python3.10/dist-packages (from flax>=0.7.2->tensorflowjs) (13.7.0)\n",
            "Requirement already satisfied: typing-extensions>=4.2 in /usr/local/lib/python3.10/dist-packages (from flax>=0.7.2->tensorflowjs) (4.5.0)\n",
            "Requirement already satisfied: PyYAML>=5.4.1 in /usr/local/lib/python3.10/dist-packages (from flax>=0.7.2->tensorflowjs) (6.0.1)\n",
            "Requirement already satisfied: ml-dtypes>=0.2.0 in /usr/local/lib/python3.10/dist-packages (from jax>=0.4.13->tensorflowjs) (0.2.0)\n",
            "Requirement already satisfied: opt-einsum in /usr/local/lib/python3.10/dist-packages (from jax>=0.4.13->tensorflowjs) (3.3.0)\n",
            "Requirement already satisfied: scipy>=1.9 in /usr/local/lib/python3.10/dist-packages (from jax>=0.4.13->tensorflowjs) (1.11.4)\n",
            "Requirement already satisfied: absl-py>=1.0.0 in /usr/local/lib/python3.10/dist-packages (from tensorflow<3,>=2.13.0->tensorflowjs) (1.4.0)\n",
            "Requirement already satisfied: astunparse>=1.6.0 in /usr/local/lib/python3.10/dist-packages (from tensorflow<3,>=2.13.0->tensorflowjs) (1.6.3)\n",
            "Requirement already satisfied: flatbuffers>=23.5.26 in /usr/local/lib/python3.10/dist-packages (from tensorflow<3,>=2.13.0->tensorflowjs) (23.5.26)\n",
            "Requirement already satisfied: gast!=0.5.0,!=0.5.1,!=0.5.2,>=0.2.1 in /usr/local/lib/python3.10/dist-packages (from tensorflow<3,>=2.13.0->tensorflowjs) (0.5.4)\n",
            "Requirement already satisfied: google-pasta>=0.1.1 in /usr/local/lib/python3.10/dist-packages (from tensorflow<3,>=2.13.0->tensorflowjs) (0.2.0)\n",
            "Requirement already satisfied: h5py>=2.9.0 in /usr/local/lib/python3.10/dist-packages (from tensorflow<3,>=2.13.0->tensorflowjs) (3.9.0)\n",
            "Requirement already satisfied: libclang>=13.0.0 in /usr/local/lib/python3.10/dist-packages (from tensorflow<3,>=2.13.0->tensorflowjs) (16.0.6)\n",
            "Requirement already satisfied: protobuf!=4.21.0,!=4.21.1,!=4.21.2,!=4.21.3,!=4.21.4,!=4.21.5,<5.0.0dev,>=3.20.3 in /usr/local/lib/python3.10/dist-packages (from tensorflow<3,>=2.13.0->tensorflowjs) (3.20.3)\n",
            "Requirement already satisfied: setuptools in /usr/local/lib/python3.10/dist-packages (from tensorflow<3,>=2.13.0->tensorflowjs) (67.7.2)\n",
            "Requirement already satisfied: termcolor>=1.1.0 in /usr/local/lib/python3.10/dist-packages (from tensorflow<3,>=2.13.0->tensorflowjs) (2.3.0)\n",
            "Requirement already satisfied: wrapt<1.15,>=1.11.0 in /usr/local/lib/python3.10/dist-packages (from tensorflow<3,>=2.13.0->tensorflowjs) (1.14.1)\n",
            "Requirement already satisfied: tensorflow-io-gcs-filesystem>=0.23.1 in /usr/local/lib/python3.10/dist-packages (from tensorflow<3,>=2.13.0->tensorflowjs) (0.34.0)\n",
            "Requirement already satisfied: grpcio<2.0,>=1.24.3 in /usr/local/lib/python3.10/dist-packages (from tensorflow<3,>=2.13.0->tensorflowjs) (1.59.3)\n",
            "Requirement already satisfied: tensorboard<2.15,>=2.14 in /usr/local/lib/python3.10/dist-packages (from tensorflow<3,>=2.13.0->tensorflowjs) (2.14.1)\n",
            "Requirement already satisfied: tensorflow-estimator<2.15,>=2.14.0 in /usr/local/lib/python3.10/dist-packages (from tensorflow<3,>=2.13.0->tensorflowjs) (2.14.0)\n",
            "Requirement already satisfied: keras<2.15,>=2.14.0 in /usr/local/lib/python3.10/dist-packages (from tensorflow<3,>=2.13.0->tensorflowjs) (2.14.0)\n",
            "Requirement already satisfied: pandas in /usr/local/lib/python3.10/dist-packages (from tensorflow-decision-forests>=1.5.0->tensorflowjs) (1.5.3)\n",
            "Collecting tensorflow<3,>=2.13.0 (from tensorflowjs)\n",
            "  Downloading tensorflow-2.15.0.post1-cp310-cp310-manylinux_2_17_x86_64.manylinux2014_x86_64.whl (475.2 MB)\n",
            "\u001b[2K     \u001b[90m━━━━━━━━━━━━━━━━━━━━━━━━━━━━━━━━━━━━━━━━\u001b[0m \u001b[32m475.2/475.2 MB\u001b[0m \u001b[31m2.8 MB/s\u001b[0m eta \u001b[36m0:00:00\u001b[0m\n",
            "\u001b[?25hRequirement already satisfied: wheel in /usr/local/lib/python3.10/dist-packages (from tensorflow-decision-forests>=1.5.0->tensorflowjs) (0.42.0)\n",
            "Collecting wurlitzer (from tensorflow-decision-forests>=1.5.0->tensorflowjs)\n",
            "  Downloading wurlitzer-3.0.3-py3-none-any.whl (7.3 kB)\n",
            "Collecting tensorboard<2.16,>=2.15 (from tensorflow<3,>=2.13.0->tensorflowjs)\n",
            "  Downloading tensorboard-2.15.1-py3-none-any.whl (5.5 MB)\n",
            "\u001b[2K     \u001b[90m━━━━━━━━━━━━━━━━━━━━━━━━━━━━━━━━━━━━━━━━\u001b[0m \u001b[32m5.5/5.5 MB\u001b[0m \u001b[31m90.5 MB/s\u001b[0m eta \u001b[36m0:00:00\u001b[0m\n",
            "\u001b[?25hCollecting tensorflow-estimator<2.16,>=2.15.0 (from tensorflow<3,>=2.13.0->tensorflowjs)\n",
            "  Downloading tensorflow_estimator-2.15.0-py2.py3-none-any.whl (441 kB)\n",
            "\u001b[2K     \u001b[90m━━━━━━━━━━━━━━━━━━━━━━━━━━━━━━━━━━━━━━━━\u001b[0m \u001b[32m442.0/442.0 kB\u001b[0m \u001b[31m40.4 MB/s\u001b[0m eta \u001b[36m0:00:00\u001b[0m\n",
            "\u001b[?25hCollecting keras<2.16,>=2.15.0 (from tensorflow<3,>=2.13.0->tensorflowjs)\n",
            "  Downloading keras-2.15.0-py3-none-any.whl (1.7 MB)\n",
            "\u001b[2K     \u001b[90m━━━━━━━━━━━━━━━━━━━━━━━━━━━━━━━━━━━━━━━━\u001b[0m \u001b[32m1.7/1.7 MB\u001b[0m \u001b[31m79.6 MB/s\u001b[0m eta \u001b[36m0:00:00\u001b[0m\n",
            "\u001b[?25hRequirement already satisfied: markdown-it-py>=2.2.0 in /usr/local/lib/python3.10/dist-packages (from rich>=11.1->flax>=0.7.2->tensorflowjs) (3.0.0)\n",
            "Requirement already satisfied: pygments<3.0.0,>=2.13.0 in /usr/local/lib/python3.10/dist-packages (from rich>=11.1->flax>=0.7.2->tensorflowjs) (2.16.1)\n",
            "Requirement already satisfied: google-auth<3,>=1.6.3 in /usr/local/lib/python3.10/dist-packages (from tensorboard<2.16,>=2.15->tensorflow<3,>=2.13.0->tensorflowjs) (2.17.3)\n",
            "Requirement already satisfied: google-auth-oauthlib<2,>=0.5 in /usr/local/lib/python3.10/dist-packages (from tensorboard<2.16,>=2.15->tensorflow<3,>=2.13.0->tensorflowjs) (1.0.0)\n",
            "Requirement already satisfied: markdown>=2.6.8 in /usr/local/lib/python3.10/dist-packages (from tensorboard<2.16,>=2.15->tensorflow<3,>=2.13.0->tensorflowjs) (3.5.1)\n",
            "Requirement already satisfied: requests<3,>=2.21.0 in /usr/local/lib/python3.10/dist-packages (from tensorboard<2.16,>=2.15->tensorflow<3,>=2.13.0->tensorflowjs) (2.31.0)\n",
            "Requirement already satisfied: tensorboard-data-server<0.8.0,>=0.7.0 in /usr/local/lib/python3.10/dist-packages (from tensorboard<2.16,>=2.15->tensorflow<3,>=2.13.0->tensorflowjs) (0.7.2)\n",
            "Requirement already satisfied: werkzeug>=1.0.1 in /usr/local/lib/python3.10/dist-packages (from tensorboard<2.16,>=2.15->tensorflow<3,>=2.13.0->tensorflowjs) (3.0.1)\n",
            "Requirement already satisfied: chex>=0.1.5 in /usr/local/lib/python3.10/dist-packages (from optax->flax>=0.7.2->tensorflowjs) (0.1.7)\n",
            "Requirement already satisfied: etils[epath,epy] in /usr/local/lib/python3.10/dist-packages (from orbax-checkpoint->flax>=0.7.2->tensorflowjs) (1.5.2)\n",
            "Requirement already satisfied: nest_asyncio in /usr/local/lib/python3.10/dist-packages (from orbax-checkpoint->flax>=0.7.2->tensorflowjs) (1.5.8)\n",
            "Requirement already satisfied: python-dateutil>=2.8.1 in /usr/local/lib/python3.10/dist-packages (from pandas->tensorflow-decision-forests>=1.5.0->tensorflowjs) (2.8.2)\n",
            "Requirement already satisfied: pytz>=2020.1 in /usr/local/lib/python3.10/dist-packages (from pandas->tensorflow-decision-forests>=1.5.0->tensorflowjs) (2023.3.post1)\n",
            "Requirement already satisfied: dm-tree>=0.1.5 in /usr/local/lib/python3.10/dist-packages (from chex>=0.1.5->optax->flax>=0.7.2->tensorflowjs) (0.1.8)\n",
            "Requirement already satisfied: toolz>=0.9.0 in /usr/local/lib/python3.10/dist-packages (from chex>=0.1.5->optax->flax>=0.7.2->tensorflowjs) (0.12.0)\n",
            "Requirement already satisfied: cachetools<6.0,>=2.0.0 in /usr/local/lib/python3.10/dist-packages (from google-auth<3,>=1.6.3->tensorboard<2.16,>=2.15->tensorflow<3,>=2.13.0->tensorflowjs) (5.3.2)\n",
            "Requirement already satisfied: pyasn1-modules>=0.2.1 in /usr/local/lib/python3.10/dist-packages (from google-auth<3,>=1.6.3->tensorboard<2.16,>=2.15->tensorflow<3,>=2.13.0->tensorflowjs) (0.3.0)\n",
            "Requirement already satisfied: rsa<5,>=3.1.4 in /usr/local/lib/python3.10/dist-packages (from google-auth<3,>=1.6.3->tensorboard<2.16,>=2.15->tensorflow<3,>=2.13.0->tensorflowjs) (4.9)\n",
            "Requirement already satisfied: requests-oauthlib>=0.7.0 in /usr/local/lib/python3.10/dist-packages (from google-auth-oauthlib<2,>=0.5->tensorboard<2.16,>=2.15->tensorflow<3,>=2.13.0->tensorflowjs) (1.3.1)\n",
            "Requirement already satisfied: mdurl~=0.1 in /usr/local/lib/python3.10/dist-packages (from markdown-it-py>=2.2.0->rich>=11.1->flax>=0.7.2->tensorflowjs) (0.1.2)\n",
            "Requirement already satisfied: charset-normalizer<4,>=2 in /usr/local/lib/python3.10/dist-packages (from requests<3,>=2.21.0->tensorboard<2.16,>=2.15->tensorflow<3,>=2.13.0->tensorflowjs) (3.3.2)\n",
            "Requirement already satisfied: idna<4,>=2.5 in /usr/local/lib/python3.10/dist-packages (from requests<3,>=2.21.0->tensorboard<2.16,>=2.15->tensorflow<3,>=2.13.0->tensorflowjs) (3.6)\n",
            "Requirement already satisfied: urllib3<3,>=1.21.1 in /usr/local/lib/python3.10/dist-packages (from requests<3,>=2.21.0->tensorboard<2.16,>=2.15->tensorflow<3,>=2.13.0->tensorflowjs) (2.0.7)\n",
            "Requirement already satisfied: certifi>=2017.4.17 in /usr/local/lib/python3.10/dist-packages (from requests<3,>=2.21.0->tensorboard<2.16,>=2.15->tensorflow<3,>=2.13.0->tensorflowjs) (2023.11.17)\n",
            "Requirement already satisfied: MarkupSafe>=2.1.1 in /usr/local/lib/python3.10/dist-packages (from werkzeug>=1.0.1->tensorboard<2.16,>=2.15->tensorflow<3,>=2.13.0->tensorflowjs) (2.1.3)\n",
            "Requirement already satisfied: fsspec in /usr/local/lib/python3.10/dist-packages (from etils[epath,epy]->orbax-checkpoint->flax>=0.7.2->tensorflowjs) (2023.6.0)\n",
            "Requirement already satisfied: zipp in /usr/local/lib/python3.10/dist-packages (from etils[epath,epy]->orbax-checkpoint->flax>=0.7.2->tensorflowjs) (3.17.0)\n",
            "Requirement already satisfied: pyasn1<0.6.0,>=0.4.6 in /usr/local/lib/python3.10/dist-packages (from pyasn1-modules>=0.2.1->google-auth<3,>=1.6.3->tensorboard<2.16,>=2.15->tensorflow<3,>=2.13.0->tensorflowjs) (0.5.1)\n",
            "Requirement already satisfied: oauthlib>=3.0.0 in /usr/local/lib/python3.10/dist-packages (from requests-oauthlib>=0.7.0->google-auth-oauthlib<2,>=0.5->tensorboard<2.16,>=2.15->tensorflow<3,>=2.13.0->tensorflowjs) (3.2.2)\n",
            "Installing collected packages: wurlitzer, tensorflow-estimator, keras, tensorboard, tensorflow, tensorflow-decision-forests, tensorflowjs\n",
            "  Attempting uninstall: tensorflow-estimator\n",
            "    Found existing installation: tensorflow-estimator 2.14.0\n",
            "    Uninstalling tensorflow-estimator-2.14.0:\n",
            "      Successfully uninstalled tensorflow-estimator-2.14.0\n",
            "  Attempting uninstall: keras\n",
            "    Found existing installation: keras 2.14.0\n",
            "    Uninstalling keras-2.14.0:\n",
            "      Successfully uninstalled keras-2.14.0\n",
            "  Attempting uninstall: tensorboard\n",
            "    Found existing installation: tensorboard 2.14.1\n",
            "    Uninstalling tensorboard-2.14.1:\n",
            "      Successfully uninstalled tensorboard-2.14.1\n",
            "  Attempting uninstall: tensorflow\n",
            "    Found existing installation: tensorflow 2.14.0\n",
            "    Uninstalling tensorflow-2.14.0:\n",
            "      Successfully uninstalled tensorflow-2.14.0\n",
            "Successfully installed keras-2.15.0 tensorboard-2.15.1 tensorflow-2.15.0.post1 tensorflow-decision-forests-1.8.1 tensorflow-estimator-2.15.0 tensorflowjs-4.14.0 wurlitzer-3.0.3\n"
          ]
        },
        {
          "output_type": "display_data",
          "data": {
            "application/vnd.colab-display-data+json": {
              "pip_warning": {
                "packages": [
                  "keras",
                  "tensorboard",
                  "tensorflow"
                ]
              }
            }
          },
          "metadata": {}
        }
      ]
    },
    {
      "cell_type": "markdown",
      "source": [
        "Save model ke format .h5"
      ],
      "metadata": {
        "id": "IizBxkyezBJy"
      }
    },
    {
      "cell_type": "code",
      "source": [
        "saved_model_path = \"./{}.h5\".format(int(time.time()))\n",
        "\n",
        "model.save(saved_model_path)"
      ],
      "metadata": {
        "colab": {
          "base_uri": "https://localhost:8080/"
        },
        "id": "zuW_Ampankwl",
        "outputId": "b540055d-c4e2-4b34-e5c3-035699ce0804"
      },
      "execution_count": 10,
      "outputs": [
        {
          "output_type": "stream",
          "name": "stderr",
          "text": [
            "/usr/local/lib/python3.10/dist-packages/keras/src/engine/training.py:3103: UserWarning:\n",
            "\n",
            "You are saving your model as an HDF5 file via `model.save()`. This file format is considered legacy. We recommend using instead the native Keras format, e.g. `model.save('my_model.keras')`.\n",
            "\n"
          ]
        }
      ]
    },
    {
      "cell_type": "markdown",
      "source": [
        "Konversi model menggunakan tensorflowjs"
      ],
      "metadata": {
        "id": "yTkukEa1zH_L"
      }
    },
    {
      "cell_type": "code",
      "source": [
        "!tensorflowjs_converter --input_format=keras {saved_model_path} ./\n"
      ],
      "metadata": {
        "colab": {
          "base_uri": "https://localhost:8080/"
        },
        "id": "8iT5-CXCnpnJ",
        "outputId": "3aff81a7-baaf-4591-c5c6-0a27ee941f4b"
      },
      "execution_count": 11,
      "outputs": [
        {
          "output_type": "stream",
          "name": "stdout",
          "text": [
            "2023-12-08 10:49:47.589213: E external/local_xla/xla/stream_executor/cuda/cuda_dnn.cc:9261] Unable to register cuDNN factory: Attempting to register factory for plugin cuDNN when one has already been registered\n",
            "2023-12-08 10:49:47.589299: E external/local_xla/xla/stream_executor/cuda/cuda_fft.cc:607] Unable to register cuFFT factory: Attempting to register factory for plugin cuFFT when one has already been registered\n",
            "2023-12-08 10:49:47.591073: E external/local_xla/xla/stream_executor/cuda/cuda_blas.cc:1515] Unable to register cuBLAS factory: Attempting to register factory for plugin cuBLAS when one has already been registered\n",
            "2023-12-08 10:49:49.568856: W tensorflow/compiler/tf2tensorrt/utils/py_utils.cc:38] TF-TRT Warning: Could not find TensorRT\n"
          ]
        }
      ]
    },
    {
      "cell_type": "markdown",
      "source": [
        "# **Menyimpan Paramater Normalization ke dalam file JSON**"
      ],
      "metadata": {
        "id": "FMvxTTCEyNl5"
      }
    },
    {
      "cell_type": "code",
      "source": [
        "print(f'mean_X: {mean_X}')\n",
        "print(f'std_X:  {std_X}')\n",
        "print(f'mean_y: {mean_y}')\n",
        "print(f'std_y:  {std_y}')\n",
        "\n",
        "result_dict = {\n",
        "    \"mean_X\": mean_X.to_dict(),\n",
        "    \"std_X\": std_X.to_dict(),\n",
        "    \"mean_y\": float(mean_y),\n",
        "    \"std_y\": float(std_y)\n",
        "}\n",
        "\n",
        "# Save to JSON file\n",
        "with open('norm_params.json', 'w') as json_file:\n",
        "    json.dump(result_dict, json_file, indent=4)\n"
      ],
      "metadata": {
        "colab": {
          "base_uri": "https://localhost:8080/"
        },
        "id": "72tvviD6oxOz",
        "outputId": "75598fee-358c-49b1-8483-d01cd3676bc5"
      },
      "execution_count": 16,
      "outputs": [
        {
          "output_type": "stream",
          "name": "stdout",
          "text": [
            "mean_X: Distance        7516.481481\n",
            "Type_Elderly       0.358025\n",
            "Type_General       0.308642\n",
            "Type_Student       0.333333\n",
            "dtype: float64\n",
            "std_X:  Distance        3568.436079\n",
            "Type_Elderly       0.479419\n",
            "Type_General       0.461933\n",
            "Type_Student       0.471405\n",
            "dtype: float64\n",
            "mean_y: 5666.666666666667\n",
            "std_y:  2024.5407953653998\n"
          ]
        }
      ]
    }
  ]
}